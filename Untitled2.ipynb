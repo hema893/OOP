{
 "cells": [
  {
   "cell_type": "markdown",
   "id": "3f625d6b-758b-4a10-8798-a752e264a21e",
   "metadata": {},
   "source": [
    "                                                          THEORY QUESTION"
   ]
  },
  {
   "cell_type": "markdown",
   "id": "32fc3b29-0330-4852-b615-74cda0e31d1e",
   "metadata": {},
   "source": [
    "1. What is an object-oriented programming(OOP)?"
   ]
  },
  {
   "cell_type": "code",
   "execution_count": null,
   "id": "d204158a-2c80-458b-bc75-ea7a3402f283",
   "metadata": {},
   "outputs": [],
   "source": [
    "Object-Oriented Programming (OOP) is a programming paradigm based on the concept of objects, which are instances of classes. It allows you to organize code by grouping related data and functions together.\n",
    "\n",
    "Key concepts of OOP include:\n",
    "\n",
    "Class: A blueprint for creating objects.\n",
    "\n",
    "Object: An instance of a class.\n",
    "\n",
    "Encapsulation: Hiding internal details and showing only necessary features.\n",
    "\n",
    "Inheritance: One class can inherit features from another.\n",
    "\n",
    "Polymorphism: One function can behave differently based on the object.\n",
    "\n",
    "OOP helps make code more modular, reusable, and easier to manage"
   ]
  },
  {
   "cell_type": "markdown",
   "id": "52e82132-cb62-4e07-82a3-28fd5406e545",
   "metadata": {},
   "source": [
    "2. What is a calss in OOP?"
   ]
  },
  {
   "cell_type": "code",
   "execution_count": null,
   "id": "20cd9f91-a81d-4e53-a858-d54de703fe9e",
   "metadata": {},
   "outputs": [],
   "source": [
    "A class in Object-Oriented Programming (OOP) is a blueprint or template for creating objects. It defines the attributes (data) and methods (functions) that the objects created from the class will have."
   ]
  },
  {
   "cell_type": "markdown",
   "id": "57266999-17f2-4692-8879-abb47f3036ac",
   "metadata": {},
   "source": [
    "3. What is an object in OOP?"
   ]
  },
  {
   "cell_type": "code",
   "execution_count": null,
   "id": "ecaac7da-6066-4ddc-9450-d50fe647e924",
   "metadata": {},
   "outputs": [],
   "source": [
    "An object in Object-Oriented Programming (OOP) is an instance of a class. It represents a real-world entity with attributes (data) and methods (functions) defined by its class."
   ]
  },
  {
   "cell_type": "markdown",
   "id": "9b7d35ee-05a5-413a-844d-27a20b540a42",
   "metadata": {},
   "source": [
    "4. What is the difference between abstraction and encapasulation?"
   ]
  },
  {
   "cell_type": "code",
   "execution_count": null,
   "id": "e0c7eff2-62e9-4bc9-9f51-f6de7efd1024",
   "metadata": {},
   "outputs": [],
   "source": [
    "Abstraction hides unnecessary details and shows only essential features.\n",
    "Encapsulation hides the internal data and protects it using access controls.\n",
    "\n",
    "Abstraction = Focus on what an object does.\n",
    "\n",
    "Encapsulation = Focus on how data is protected"
   ]
  },
  {
   "cell_type": "markdown",
   "id": "5805590c-c0fb-45da-b122-86981fb55317",
   "metadata": {},
   "source": [
    "5. What are dunder method in python?"
   ]
  },
  {
   "cell_type": "code",
   "execution_count": null,
   "id": "c913d5de-edda-4437-a972-3b76102a5f12",
   "metadata": {},
   "outputs": [],
   "source": [
    "Dunder methods (short for \"double underscore\" methods) in Python are special methods with names that start and end with double underscores, like __init__, __str__, and __add__. They are used to define how objects behave with built-in operations (e.g., initialization, printing, addition)."
   ]
  },
  {
   "cell_type": "markdown",
   "id": "21225862-5ef2-4d32-bd57-6e99510d4c0d",
   "metadata": {},
   "source": [
    "6. Explain the concept of inheritance in OOP?"
   ]
  },
  {
   "cell_type": "code",
   "execution_count": null,
   "id": "410df287-29bf-48c9-89de-8751f18cbe63",
   "metadata": {},
   "outputs": [],
   "source": [
    "Inheritance in OOP is the concept where one class (child/subclass) can inherit properties and methods from another class (parent/superclass).\n",
    "\n",
    "Purpose:\n",
    "Promotes code reuse.\n",
    "\n",
    "Supports hierarchical relationships."
   ]
  },
  {
   "cell_type": "markdown",
   "id": "2d379a79-90f0-4d5d-b9fe-0f1d98fb9334",
   "metadata": {},
   "source": [
    "7. What is polymorphism in OOP?"
   ]
  },
  {
   "cell_type": "code",
   "execution_count": null,
   "id": "55a6f928-0784-4d50-b49a-c150e05a8553",
   "metadata": {},
   "outputs": [],
   "source": [
    "Polymorphism allows the same method name to behave differently in different classes.\n",
    "\n",
    "Example:\n",
    "Dog.sound() → \"Bark\"\n",
    "Cat.sound() → \"Meow\"\n",
    "\n",
    "In short: One method, many forms"
   ]
  },
  {
   "cell_type": "markdown",
   "id": "1848d8b3-f503-4396-b286-9b746fff4f6c",
   "metadata": {},
   "source": [
    "8. How is encapsulation acheived in python?"
   ]
  },
  {
   "cell_type": "code",
   "execution_count": null,
   "id": "3fc017db-71bd-48c0-b440-3a013876b9eb",
   "metadata": {},
   "outputs": [],
   "source": [
    "Encapsulation in Python is achieved by:\n",
    "\n",
    "Using private variables (prefix with _ or __).\n",
    "\n",
    "Providing getters and setters to access or modify them."
   ]
  },
  {
   "cell_type": "markdown",
   "id": "e7ebb858-ef0e-414b-ab50-f4193567955e",
   "metadata": {},
   "source": [
    "9.What is a constructor in python?"
   ]
  },
  {
   "cell_type": "code",
   "execution_count": null,
   "id": "693e31a9-e78c-4fbc-9c33-0020dda07f92",
   "metadata": {},
   "outputs": [],
   "source": [
    "A constructor in Python is a special method called __init__ that runs automatically when an object is created. It is used to initialize the object's attributes."
   ]
  },
  {
   "cell_type": "markdown",
   "id": "04b13442-a815-42a5-bf19-da660fe8a4a8",
   "metadata": {},
   "source": [
    "10. What are class and static methods in python?"
   ]
  },
  {
   "cell_type": "code",
   "execution_count": null,
   "id": "2cc7c136-3f3f-4a42-a8f0-abc44d894261",
   "metadata": {},
   "outputs": [],
   "source": [
    "In Python:\n",
    "\n",
    "Class Method: Uses @classmethod and takes cls as the first parameter. It can access and modify class-level data.\n",
    "\n",
    "Static Method: Uses @staticmethod and takes no self or cls. It behaves like a regular function inside a class.\n"
   ]
  },
  {
   "cell_type": "markdown",
   "id": "b2c90fe1-9b6b-4f2c-85a8-7d3cadd846a8",
   "metadata": {},
   "source": [
    "11. What is a method overloading in python?"
   ]
  },
  {
   "cell_type": "code",
   "execution_count": null,
   "id": "65517596-55bc-442b-aace-8e33c6b36d6e",
   "metadata": {},
   "outputs": [],
   "source": [
    "Method overloading in Python means having multiple methods with the same name but different parameters.\n",
    "\n",
    "Python doesn't support true method overloading like some other languages, but it can be done using default arguments or *args."
   ]
  },
  {
   "cell_type": "markdown",
   "id": "6787588f-add8-44d1-9704-97143126d5da",
   "metadata": {},
   "source": [
    "12. What is method overriding in OOP?"
   ]
  },
  {
   "cell_type": "code",
   "execution_count": null,
   "id": "c21f1b83-6949-48f5-96b2-4a09a39d8762",
   "metadata": {},
   "outputs": [],
   "source": [
    "Method overriding in Object-Oriented Programming (OOP) is a feature that allows a subclass (child class) to provide a specific implementation of a method that is already defined in its superclass (parent class).\n",
    "\n",
    "Key Characteristics:\n",
    "The method name, return type, and parameters must be the same as in the parent class.\n",
    "\n",
    "It is used to achieve runtime polymorphism.\n",
    "\n",
    "It enables dynamic method dispatch, meaning the method call is resolved at runtime based on the object's actual type."
   ]
  },
  {
   "cell_type": "markdown",
   "id": "800e4a7b-aea8-488a-9b58-42d466897673",
   "metadata": {},
   "source": [
    "13. What is a property decroator in python?"
   ]
  },
  {
   "cell_type": "code",
   "execution_count": null,
   "id": "2b095a58-1525-4ae8-872c-21dbe438c88d",
   "metadata": {},
   "outputs": [],
   "source": [
    "The @property decorator in Python is used to define getter methods in a class that can be accessed like attributes. It allows you to define a method but access it as if it were a regular attribute—making your class interface cleaner and more Pythonic.\n",
    "\n",
    "Why Use @property?\n",
    "It lets you control access to an attribute (e.g., make it read-only orvalidate it).\n",
    "\n",
    "It allows you to change internal implementation without changing the public API."
   ]
  },
  {
   "cell_type": "markdown",
   "id": "963c3ef0-5db6-4a1b-a30e-565d04d19478",
   "metadata": {},
   "source": [
    "14. Why is polymorphism important in OOP?"
   ]
  },
  {
   "cell_type": "code",
   "execution_count": null,
   "id": "139ab1f4-828c-477c-9b08-c3ae502d32b2",
   "metadata": {},
   "outputs": [],
   "source": [
    "Polymorphism in OOP allows objects of different classes to be treated as if they are of the same superclass. It enables a single interface to work with different data types, making code more flexible, reusable, and easier to maintain."
   ]
  },
  {
   "cell_type": "markdown",
   "id": "75eb3de4-899c-488a-a0ba-0427612877ad",
   "metadata": {},
   "source": [
    "15. What is an abstract class in python?"
   ]
  },
  {
   "cell_type": "code",
   "execution_count": null,
   "id": "d38da4cb-ca21-4d1e-bff8-4f2f9849f79c",
   "metadata": {},
   "outputs": [],
   "source": [
    "An abstract class in Python is a class that cannot be instantiated and is used to define a common interface for its subclasses. It can include abstract methods (declared but not implemented) that must be implemented by any subclass."
   ]
  },
  {
   "cell_type": "markdown",
   "id": "e9e6a80e-8d97-44b9-8d72-06e37c8d2613",
   "metadata": {},
   "source": [
    "16. What are the advantages of OOP?"
   ]
  },
  {
   "cell_type": "code",
   "execution_count": null,
   "id": "96c37186-c10a-4803-ae2f-6b0bd9782ec9",
   "metadata": {},
   "outputs": [],
   "source": [
    "Advantages of OOP (Object-Oriented Programming):\n",
    "\n",
    "Modularity – Code is organized into classes/objects.\n",
    "\n",
    "Reusability – Code can be reused through inheritance.\n",
    "\n",
    "Encapsulation – Protects data by keeping it private.\n",
    "\n",
    "Polymorphism – One interface, many implementations.\n",
    "\n",
    "Maintainability – Easier to update and manage code.\n",
    "\n",
    "Scalability – Easy to extend and build on."
   ]
  },
  {
   "cell_type": "markdown",
   "id": "19d01012-8152-422f-96ea-e2398bd27ad2",
   "metadata": {},
   "source": [
    "17. What is the difference between a class variable and an instance variable?"
   ]
  },
  {
   "cell_type": "code",
   "execution_count": null,
   "id": "2450fa60-5195-4a17-bcf3-2eab602d21fe",
   "metadata": {},
   "outputs": [],
   "source": [
    "Class Variable: Shared by all instances of a class. Defined inside the class, but outside any methods.\n",
    "\n",
    "Instance Variable: Unique to each object. Defined inside methods, typically in __init__."
   ]
  },
  {
   "cell_type": "markdown",
   "id": "b4d73b89-1118-4e6a-aeb2-669b1e20da5c",
   "metadata": {},
   "source": [
    "18. What is multiple inheritance in python?"
   ]
  },
  {
   "cell_type": "code",
   "execution_count": null,
   "id": "2887ab4b-e505-4132-93fd-9b7815922a61",
   "metadata": {},
   "outputs": [],
   "source": [
    "Multiple inheritance in Python means a class can inherit from more than one parent class. This allows a subclass to access features from multiple classes."
   ]
  },
  {
   "cell_type": "code",
   "execution_count": null,
   "id": "aff870a1-78a9-46a0-b5f4-dfb149078672",
   "metadata": {},
   "outputs": [],
   "source": [
    "class A:\n",
    "    def method_a(self):\n",
    "        print(\"A\")\n",
    "\n",
    "class B:\n",
    "    def method_b(self):\n",
    "        print(\"B\")\n",
    "\n",
    "class C(A, B):\n",
    "    pass\n",
    "\n",
    "obj = C()\n",
    "obj.method_a()  # From class A\n",
    "obj.method_b()  # From class B\n",
    "Python handles method resolution using the Method Resolution Order (MRO)."
   ]
  },
  {
   "cell_type": "markdown",
   "id": "b91f7006-201f-44c1-9f1c-b31459b3e6bf",
   "metadata": {},
   "source": [
    "19.Explain the purpose of\"__str_ _'and'_ _repr_ _''methods in python."
   ]
  },
  {
   "cell_type": "code",
   "execution_count": null,
   "id": "e01f6d2c-4443-4d7d-8033-a7dc41cb37ea",
   "metadata": {},
   "outputs": [],
   "source": [
    "In Python, __str__ and __repr__ are special methods used to define string representations of objects.\n",
    "\n",
    "__str__: Returns a user-friendly string. Used by print() and str().\n",
    "\n",
    "__repr__: Returns a developer-friendly string. Used in debugging and by repr()."
   ]
  },
  {
   "cell_type": "markdown",
   "id": "41ca1467-74be-40fd-a7d0-f60034eb6239",
   "metadata": {},
   "source": [
    "20. What is the significance of the'super()'function in python?"
   ]
  },
  {
   "cell_type": "code",
   "execution_count": null,
   "id": "f436ed97-23e7-406b-be51-32d9dccf98e1",
   "metadata": {},
   "outputs": [],
   "source": [
    "The super() function in Python is used to call methods from a parent class. It’s commonly used in inheritance to initialize the parent class or access its methods without hardcoding the class name.\n",
    "class Parent:\n",
    "    def show(self):\n",
    "        print(\"Parent\")\n",
    "\n",
    "class Child(Parent):\n",
    "    def show(self):\n",
    "        super().show()  # Calls Parent's show\n",
    "        print(\"Child\")\n",
    "Significance:\n",
    "Promotes code reuse\n",
    "\n",
    "Supports multiple inheritance\n",
    "\n",
    "Makes code easier to maintain"
   ]
  },
  {
   "cell_type": "markdown",
   "id": "3db1b345-6bea-4ccb-89b9-e3fe1d4b8071",
   "metadata": {},
   "source": [
    "21. What is the signification of the_ _ del_ _ method in python?"
   ]
  },
  {
   "cell_type": "code",
   "execution_count": null,
   "id": "5ca0707f-3b99-4ad2-836d-46cc55b24971",
   "metadata": {},
   "outputs": [],
   "source": [
    "The __del__ method in Python is a destructor. It's called automatically when an object is about to be destroyed, allowing cleanup (like closing files or releasing resources).\n",
    "class MyClass:\n",
    "    def __del__(self):\n",
    "        print(\"Object deleted\")\n",
    "Significance:\n",
    "Used for resource cleanup\n",
    "\n",
    "Called when the object is garbage collected\n",
    "\n",
    "Use with care, as timing of call is not guaranteed"
   ]
  },
  {
   "cell_type": "markdown",
   "id": "e0600a0c-bfbb-4006-a488-0aa6b6cc9445",
   "metadata": {},
   "source": [
    "22. What is the difference between@ staticmethod and @classmethod in python?"
   ]
  },
  {
   "cell_type": "code",
   "execution_count": null,
   "id": "9c494d3a-8cab-479f-9c5e-4bfea10061c4",
   "metadata": {},
   "outputs": [],
   "source": [
    "@staticmethod and @classmethod are both used to define methods that are not regular instance methods.\n",
    "\n",
    "Key Differences:\n",
    "Feature\t@staticmethod\t@classmethod\n",
    "First argument\tNo special first argument\tTakes cls as the first argument\n",
    "Access\tCan’t access class or instance data\tCan access class data via cls\n",
    "Use case\tUtility functions\tFactory methods or class-level access\n",
    "\n",
    "class MyClass:\n",
    "    @staticmethod\n",
    "    def static_method():\n",
    "        print(\"No access to class or instance\")\n",
    "\n",
    "    @classmethod\n",
    "    def class_method(cls):\n",
    "        print(\"Access to class:\", cls)\n"
   ]
  },
  {
   "cell_type": "markdown",
   "id": "bcc1afcd-f476-44a9-9d58-5b1cf1b4c961",
   "metadata": {},
   "source": [
    "23. How does polymorphism work in python with inheritance?"
   ]
  },
  {
   "cell_type": "code",
   "execution_count": null,
   "id": "c6fc5062-ad9c-43d2-9175-8a09b7eb3c9d",
   "metadata": {},
   "outputs": [],
   "source": [
    "In Python, polymorphism with inheritance allows subclasses to override methods from a parent class, enabling different behaviors using the same method name.\n",
    "class Animal:\n",
    "    def speak(self):\n",
    "        print(\"Animal speaks\")\n",
    "\n",
    "class Dog(Animal):\n",
    "    def speak(self):\n",
    "        print(\"Dog barks\")\n",
    "\n",
    "class Cat(Animal):\n",
    "    def speak(self):\n",
    "        print(\"Cat meows\")\n",
    "\n",
    "# Polymorphism in action\n",
    "for animal in [Dog(), Cat()]:\n",
    "    animal.speak()\n",
    "Result:\n",
    "Each object calls its own speak() method.\n",
    "\n",
    "Same interface, different behavior — that's polymorphism."
   ]
  },
  {
   "cell_type": "markdown",
   "id": "b010ee05-f683-483e-b2ce-3659e8ea92b8",
   "metadata": {},
   "source": [
    "24. What is method chaining in python OOP?"
   ]
  },
  {
   "cell_type": "code",
   "execution_count": null,
   "id": "ae049726-8148-4660-b1f4-841c003e2acb",
   "metadata": {},
   "outputs": [],
   "source": [
    "Method chaining in Python OOP is a technique where multiple methods are called in a single line, one after another, using dot notation.\n",
    "\n",
    "How it works:\n",
    "Each method returns self, allowing the next method to be called on the same object.\n",
    "class Person:\n",
    "    def set_name(self, name):\n",
    "        self.name = name\n",
    "        return self\n",
    "\n",
    "    def set_age(self, age):\n",
    "        self.age = age\n",
    "        return self\n",
    "\n",
    "p = Person().set_name(\"Alice\").set_age(30)\n",
    "Benefit:\n",
    "Makes code concise and readable."
   ]
  },
  {
   "cell_type": "markdown",
   "id": "9a5cb146-d221-4a74-b8ae-d81e74af0eda",
   "metadata": {},
   "source": [
    "25. What is the purpose of the _ _call_ _method in python?"
   ]
  },
  {
   "cell_type": "code",
   "execution_count": null,
   "id": "38d2420b-e912-456a-8f47-78e1e94cfc80",
   "metadata": {},
   "outputs": [],
   "source": [
    "The __call__ method in Python allows an object to be called like a function. It enables instances of a class to be invoked using parentheses."
   ]
  },
  {
   "cell_type": "markdown",
   "id": "869473cc-0756-4df8-993a-ef8665c38259",
   "metadata": {},
   "source": [
    "                                                PRATICAL QUESTION"
   ]
  },
  {
   "cell_type": "code",
   "execution_count": null,
   "id": "dd2ad699-ac86-49ee-b05b-e5635e60c985",
   "metadata": {},
   "outputs": [],
   "source": [
    "1. Create a parent class animal with a method speak() that prints a generic message. Create a child class dog that overrides the speak()method to print\n",
    "\"Bark!\"."
   ]
  },
  {
   "cell_type": "code",
   "execution_count": null,
   "id": "e1024346-6401-4454-8878-71f46a917326",
   "metadata": {},
   "outputs": [],
   "source": [
    "class Animal:\n",
    "    def speak(self):\n",
    "        print(\"Animal speaks\")\n",
    "\n",
    "class Dog(Animal):\n",
    "    def speak(self):\n",
    "        print(\"Bark!\")\n"
   ]
  },
  {
   "cell_type": "code",
   "execution_count": null,
   "id": "a168faf0-a32c-44ff-9649-61c5f4e54b7a",
   "metadata": {},
   "outputs": [],
   "source": [
    "2. Write a program to create an abstract class shape method area(). derive classes circle and rectangle from it and implement the area() method in both."
   ]
  },
  {
   "cell_type": "code",
   "execution_count": null,
   "id": "534ee47a-c20a-4127-b081-1aaad4d7e806",
   "metadata": {},
   "outputs": [],
   "source": [
    "from abc import ABC, abstractmethod\n",
    "import math\n",
    "\n",
    "class Shape(ABC):\n",
    "    @abstractmethod\n",
    "    def area(self):\n",
    "        pass\n",
    "\n",
    "class Circle(Shape):\n",
    "    def __init__(self, radius):\n",
    "        self.radius = radius\n",
    "    def area(self):\n",
    "        return math.pi * self.radius ** 2\n",
    "\n",
    "class Rectangle(Shape):\n",
    "    def __init__(self, width, height):\n",
    "        self.width = width\n",
    "        self.height = height\n",
    "    def area(self):\n",
    "        return self.width * self.height\n"
   ]
  },
  {
   "cell_type": "code",
   "execution_count": null,
   "id": "ef804785-4e20-4822-911e-33d970c4c769",
   "metadata": {},
   "outputs": [],
   "source": [
    "3. Implement a multi-level inheritance scenario where a class vehichle has an attribute type.derive a class car and further derive a class  electriccar\n",
    "that adds a battery attribute."
   ]
  },
  {
   "cell_type": "code",
   "execution_count": null,
   "id": "e3a7e218-b7c1-4f7c-9b89-36f9ce208e2e",
   "metadata": {},
   "outputs": [],
   "source": [
    "class Vehicle:\n",
    "    def __init__(self, type):\n",
    "        self.type = type\n",
    "\n",
    "class Car(Vehicle):\n",
    "    def __init__(self, type, brand):\n",
    "        super().__init__(type)\n",
    "        self.brand = brand\n",
    "\n",
    "class ElectricCar(Car):\n",
    "    def __init__(self, type, brand, battery):\n",
    "        super().__init__(type, brand)\n",
    "        self.battery = battery\n"
   ]
  },
  {
   "cell_type": "code",
   "execution_count": null,
   "id": "c4364eb6-7b13-432c-960f-9dd2d2b86108",
   "metadata": {},
   "outputs": [],
   "source": [
    "4. Demonstrate polymorphism by creating a base class bird with a method fly(). Createtwo derived classes sparrow and penguin that override the fly()\n",
    " method."
   ]
  },
  {
   "cell_type": "code",
   "execution_count": null,
   "id": "3e681cb1-0037-4a5b-88bc-e083b8c09aae",
   "metadata": {},
   "outputs": [],
   "source": [
    "class Bird:\n",
    "    def fly(self):\n",
    "        print(\"Bird is flying\")\n",
    "\n",
    "class Sparrow(Bird):\n",
    "    def fly(self):\n",
    "        print(\"Sparrow can fly\")\n",
    "\n",
    "class Penguin(Bird):\n",
    "    def fly(self):\n",
    "        print(\"Penguin can't fly\")\n"
   ]
  },
  {
   "cell_type": "code",
   "execution_count": null,
   "id": "058363f4-1cd7-40f8-90de-28a6d01f2080",
   "metadata": {},
   "outputs": [],
   "source": [
    "5. write a program to demonstrate encapsulation by creating a class bankaccount with private attributes balance and methods to deposit, withdraw and \n",
    "check blance."
   ]
  },
  {
   "cell_type": "markdown",
   "id": "8b314d41-f8e1-4e57-9c14-d3003c51e1bb",
   "metadata": {},
   "source": [
    "class BankAccount:\n",
    "    def __init__(self, initial_balance=0):\n",
    "        self.__balance = initial_balance\n",
    "\n",
    "    def deposit(self, amount):\n",
    "        if amount > 0:\n",
    "            self.__balance += amount\n",
    "\n",
    "    def withdraw(self, amount):\n",
    "        if 0 < amount <= self.__balance:\n",
    "            self.__balance -= amount\n",
    "\n",
    "    def check_balance(self):\n",
    "        return self.__balance\n"
   ]
  },
  {
   "cell_type": "code",
   "execution_count": null,
   "id": "c44ee9d7-d8fd-46af-9708-1b493e9da015",
   "metadata": {},
   "outputs": [],
   "source": [
    "6. Demonstrate runtime polymorphism using a method play() in a base class instrument. derive classes guitar and piano that implement their own version \n",
    "of play()."
   ]
  },
  {
   "cell_type": "code",
   "execution_count": null,
   "id": "dff6c1e1-8a44-446a-8816-9e3f0c2d4e1e",
   "metadata": {},
   "outputs": [],
   "source": [
    "class Instrument:\n",
    "    def play(self):\n",
    "        print(\"Playing an instrument\")\n",
    "\n",
    "class Guitar(Instrument):\n",
    "    def play(self):\n",
    "        print(\"Playing the guitar\")\n",
    "\n",
    "class Piano(Instrument):\n",
    "    def play(self):\n",
    "        print(\"Playing the piano\")\n"
   ]
  },
  {
   "cell_type": "code",
   "execution_count": null,
   "id": "58fdcae6-1799-41c8-ab3d-875aaba8446e",
   "metadata": {},
   "outputs": [],
   "source": [
    "7.create a class methoperation with a class method add_numbers() to add two numbers and a static method subtract_numbers() to subtract two numbers."
   ]
  },
  {
   "cell_type": "code",
   "execution_count": null,
   "id": "8ede7d84-ddcd-428c-8615-b0f793873572",
   "metadata": {},
   "outputs": [],
   "source": [
    "class MethOperation:\n",
    "    @classmethod\n",
    "    def add_numbers(cls, a, b):\n",
    "        return a + b\n",
    "\n",
    "    @staticmethod\n",
    "    def subtract_numbers(a, b):\n",
    "        return a - b\n"
   ]
  },
  {
   "cell_type": "code",
   "execution_count": null,
   "id": "c56aee6b-863f-4597-8990-04851775ba21",
   "metadata": {},
   "outputs": [],
   "source": [
    "8.implement a class person with a class method to count the total numbers of person created."
   ]
  },
  {
   "cell_type": "code",
   "execution_count": null,
   "id": "feb25a4a-763f-45c2-aa99-89d15473d970",
   "metadata": {},
   "outputs": [],
   "source": [
    "class Person:\n",
    "    count = 0\n",
    "\n",
    "    def __init__(self, name):\n",
    "        self.name = name\n",
    "        Person.count += 1\n",
    "\n",
    "    @classmethod\n",
    "    def total_persons(cls):\n",
    "        return cls.count\n"
   ]
  },
  {
   "cell_type": "code",
   "execution_count": null,
   "id": "004ddef2-618d-4fc9-8591-68cfd6c8f210",
   "metadata": {},
   "outputs": [],
   "source": [
    "9.write a class fraction with attributes numerator and denominator. override the str method to display the fraction as 'numerator/denominator'."
   ]
  },
  {
   "cell_type": "code",
   "execution_count": 2,
   "id": "4752ab78-3228-4b14-951a-f3b65a9680d9",
   "metadata": {},
   "outputs": [],
   "source": [
    "class Fraction:\n",
    "    def __init__(self, numerator, denominator):\n",
    "        self.numerator = numerator\n",
    "        self.denominator = denominator\n",
    "\n",
    "    def __str__(self):\n",
    "        return f\"{self.numerator}/{self.denominator}\"\n"
   ]
  },
  {
   "cell_type": "code",
   "execution_count": null,
   "id": "37c13783-4257-4e24-b24c-46f95b921dd0",
   "metadata": {},
   "outputs": [],
   "source": [
    "10.demonstrate operator overloading by creating a class vector and overriding the add method to add two vectors."
   ]
  },
  {
   "cell_type": "code",
   "execution_count": 2,
   "id": "e9a186a2-00d4-41c7-ac2d-f85331a2ee6a",
   "metadata": {},
   "outputs": [
    {
     "name": "stdout",
     "output_type": "stream",
     "text": [
      "Vector(6, 8)\n"
     ]
    }
   ],
   "source": [
    "class Vector:\n",
    "    def __init__(self, x, y):\n",
    "        self.x = x\n",
    "        self.y = y\n",
    "\n",
    "    def __add__(self, other):\n",
    "        if not isinstance(other, Vector):\n",
    "            return NotImplemented\n",
    "        return Vector(self.x + other.x, self.y + other.y)\n",
    "\n",
    "    def __repr__(self):\n",
    "        return f\"Vector({self.x}, {self.y})\"\n",
    "v1 = Vector(2, 3)\n",
    "v2 = Vector(4, 5)\n",
    "v3 = v1 + v2\n",
    "print(v3)  \n"
   ]
  },
  {
   "cell_type": "code",
   "execution_count": null,
   "id": "528757b4-6a06-4191-9548-332dbe87ab2d",
   "metadata": {},
   "outputs": [],
   "source": [
    "11. create a class person with attributes name and age. add a method geet() the prints 'hello, my name is{name} and I am{age} years old'."
   ]
  },
  {
   "cell_type": "code",
   "execution_count": 3,
   "id": "759e5a71-c695-4f10-b831-699040816772",
   "metadata": {},
   "outputs": [
    {
     "name": "stdout",
     "output_type": "stream",
     "text": [
      "Hello, my name is Alice and I am 30 years old.\n"
     ]
    }
   ],
   "source": [
    "class Person:\n",
    "    def __init__(self, name, age):\n",
    "        # Initialize the instance attributes\n",
    "        self.name = name\n",
    "        self.age = age\n",
    "\n",
    "    def greet(self):\n",
    "        # Print a personalized greeting\n",
    "        print(f\"Hello, my name is {self.name} and I am {self.age} years old.\")\n",
    "\n",
    "\n",
    "p1 = Person(\"Alice\", 30)\n",
    "p1.greet() \n"
   ]
  },
  {
   "cell_type": "code",
   "execution_count": null,
   "id": "028d45b1-4807-4bef-a9d4-c03e7d7bec71",
   "metadata": {},
   "outputs": [],
   "source": [
    "12. implement a class student with attributes name and grades. create a method average_grade() to compute the average of the grades."
   ]
  },
  {
   "cell_type": "code",
   "execution_count": 4,
   "id": "06c453dd-644d-43e3-83f4-4afb9b04222d",
   "metadata": {},
   "outputs": [
    {
     "name": "stdout",
     "output_type": "stream",
     "text": [
      "86.25\n"
     ]
    }
   ],
   "source": [
    "class Student:\n",
    "    def __init__(self, name, grades):\n",
    "        self.name = name\n",
    "        self.grades = grades  # expected to be a list of numbers\n",
    "\n",
    "    def average_grade(self):\n",
    "        if not self.grades:\n",
    "            return 0\n",
    "        return sum(self.grades) / len(self.grades)\n",
    "\n",
    "\n",
    "s = Student(\"Bob\", [85, 92, 78, 90])\n",
    "print(s.average_grade())  \n"
   ]
  },
  {
   "cell_type": "code",
   "execution_count": null,
   "id": "533cb852-47b6-4b83-9c95-e6f2d0859e30",
   "metadata": {},
   "outputs": [],
   "source": [
    "13. create a class rectangle with method set_dimensions() to set the dimensions and area() to calculate the area."
   ]
  },
  {
   "cell_type": "code",
   "execution_count": 5,
   "id": "111eb95f-768a-4cf9-9603-31c86f8af6bf",
   "metadata": {},
   "outputs": [
    {
     "name": "stdout",
     "output_type": "stream",
     "text": [
      "40\n"
     ]
    }
   ],
   "source": [
    "class Rectangle:\n",
    "    def __init__(self):\n",
    "        # initialize width and height to zero\n",
    "        self.width = 0\n",
    "        self.height = 0\n",
    "\n",
    "    def set_dimensions(self, width, height):\n",
    "        \"\"\"\n",
    "        Set the rectangle’s dimensions.\n",
    "        :param width:  numeric width\n",
    "        :param height: numeric height\n",
    "        \"\"\"\n",
    "        self.width = width\n",
    "        self.height = height  # store dimensions for later use :contentReference[oaicite:0]{index=0}\n",
    "\n",
    "    def area(self):\n",
    "        \"\"\"\n",
    "        Calculate and return the area.\n",
    "        :return: width * height\n",
    "        \"\"\"\n",
    "        return self.width * self.height  # apply rectangle area formula :contentReference[oaicite:1]{index=1}\n",
    "rect = Rectangle()\n",
    "rect.set_dimensions(5, 8)\n",
    "print(rect.area())   \n"
   ]
  },
  {
   "cell_type": "code",
   "execution_count": null,
   "id": "a5f0b406-71a1-42c1-9e32-3ff47693d4a9",
   "metadata": {},
   "outputs": [],
   "source": [
    "14. create a class employee with a method calculate_salary() that computes the salary based on hours worked and hourly rate. create a derived class \n",
    "manger that adds the bonus to the salary."
   ]
  },
  {
   "cell_type": "code",
   "execution_count": 1,
   "id": "734e578f-f74d-41ea-b773-0876c01710ac",
   "metadata": {},
   "outputs": [
    {
     "name": "stdout",
     "output_type": "stream",
     "text": [
      "1000\n",
      "1500\n"
     ]
    }
   ],
   "source": [
    "class Employee:\n",
    "    def __init__(self, hours_worked, hourly_rate):\n",
    "        self.hours_worked = hours_worked\n",
    "        self.hourly_rate = hourly_rate\n",
    "\n",
    "    def calculate_salary(self):\n",
    "        \"\"\"\n",
    "        Compute salary as hours worked × hourly rate.\n",
    "        \"\"\"\n",
    "        return self.hours_worked * self.hourly_rate  # basic salary formula :contentReference[oaicite:0]{index=0}\n",
    "\n",
    "class Manager(Employee):\n",
    "    def __init__(self, hours_worked, hourly_rate, bonus):\n",
    "        super().__init__(hours_worked, hourly_rate)\n",
    "        self.bonus = bonus\n",
    "\n",
    "    def calculate_salary(self):\n",
    "        \"\"\"\n",
    "        Add bonus on top of the employee’s base salary.\n",
    "        \"\"\"\n",
    "        base_salary = super().calculate_salary()\n",
    "        return base_salary + self.bonus       # include manager bonus :contentReference[oaicite:1]{index=1}\n",
    "\n",
    "e = Employee(40, 25)\n",
    "print(e.calculate_salary())      # 1000\n",
    "\n",
    "m = Manager(40, 25, bonus=500)\n",
    "print(m.calculate_salary())      "
   ]
  },
  {
   "cell_type": "code",
   "execution_count": null,
   "id": "8980e4df-1d37-4463-81f7-2455735c0483",
   "metadata": {},
   "outputs": [],
   "source": [
    "15. create a class product with attributes name,price, and quantity. implement the method total_price() that calculate the total price of the product."
   ]
  },
  {
   "cell_type": "code",
   "execution_count": 3,
   "id": "f5dd516a-d957-43c4-be94-33b7d4613882",
   "metadata": {},
   "outputs": [
    {
     "name": "stdout",
     "output_type": "stream",
     "text": [
      "49.95\n"
     ]
    }
   ],
   "source": [
    "class Product:\n",
    "    def __init__(self, name, price, quantity):\n",
    "        self.name = name         # product name\n",
    "        self.price = price       # unit price\n",
    "        self.quantity = quantity # number of units\n",
    "\n",
    "    def total_price(self):\n",
    "        \"\"\"\n",
    "        Calculate the total price of this product\n",
    "        by multiplying unit price by quantity.\n",
    "        \"\"\"\n",
    "        return self.price * self.quantity\n",
    "p = Product(\"Widget\", 9.99, 5)\n",
    "print(p.total_price())  \n"
   ]
  },
  {
   "cell_type": "code",
   "execution_count": null,
   "id": "389c256a-9348-4092-847c-8b2fdfdf461f",
   "metadata": {},
   "outputs": [],
   "source": []
  },
  {
   "cell_type": "code",
   "execution_count": null,
   "id": "bf6baa0e-3c44-47eb-827c-f881cf5892e3",
   "metadata": {},
   "outputs": [],
   "source": [
    "16. Create a class animal with an abstract method sound().create two derived classesvcow and sheep that implement the sound () method."
   ]
  },
  {
   "cell_type": "code",
   "execution_count": 4,
   "id": "2a1afc70-d7f8-413e-947e-fec7025dde27",
   "metadata": {},
   "outputs": [],
   "source": [
    "from abc import ABC, abstractmethod  # Import the Abstract Base Class machinery :contentReference[oaicite:0]{index=0} :contentReference[oaicite:1]\n",
    "{index=1}\n",
    "\n",
    "class Animal(ABC):\n",
    "    @abstractmethod\n",
    "    def sound(self):\n",
    "        \"\"\"Produce the animal's sound.\"\"\"\n",
    "        pass  # Defines an abstract method that must be overridden :contentReference[oaicite:2]{index=2}\n",
    "\n",
    "class Cow(Animal):\n",
    "    def sound(self):\n",
    "        print(\"Moo!\")  # Concrete implementation for Cow :contentReference[oaicite:3]{index=3}\n",
    "\n",
    "class Sheep(Animal):\n",
    "    def sound(self):\n",
    "        print(\"Baa!\")  # Concrete implementation for Sheep :contentReference[oaicite:4]{index=4}\n"
   ]
  },
  {
   "cell_type": "code",
   "execution_count": null,
   "id": "b5c05be4-da7c-4911-806a-746663c1f7d8",
   "metadata": {},
   "outputs": [],
   "source": [
    "17. Create a class book with attributes title,author and year_published. add a method get_book_info() that returns a formatted string with the book's \n",
    "details."
   ]
  },
  {
   "cell_type": "code",
   "execution_count": null,
   "id": "5d6635d3-8b89-4721-938d-21f305737d59",
   "metadata": {},
   "outputs": [],
   "source": [
    "class Book:\n",
    "    def __init__(self, title, author, year_published):\n",
    "        self.title = title                 # Book title :contentReference[oaicite:2]{index=2}\n",
    "        self.author = author               # Book author :contentReference[oaicite:3]{index=3}\n",
    "        self.year_published = year_published  # Publication year :contentReference[oaicite:4]{index=4}\n",
    "\n",
    "    def get_book_info(self):\n",
    "        \"\"\"\n",
    "        Return a formatted string with the book's details.\n",
    "        \"\"\"\n",
    "        return f\"Title: {self.title}, Author: {self.author}, Year: {self.year_published}\"\n"
   ]
  },
  {
   "cell_type": "code",
   "execution_count": null,
   "id": "02c0684f-f860-4213-90ae-e670958315b6",
   "metadata": {},
   "outputs": [],
   "source": [
    "18. Create a class house with attributes address and price. create a derived class mansion that adds an attribute number_of_rooms."
   ]
  },
  {
   "cell_type": "code",
   "execution_count": null,
   "id": "8a5c65b7-c4ad-42c3-978d-8aa65b4aaff1",
   "metadata": {},
   "outputs": [],
   "source": [
    "class House:\n",
    "    def __init__(self, address, price):\n",
    "        self.address = address\n",
    "        self.price = price\n",
    "\n",
    "class Mansion(House):\n",
    "    def __init__(self, address, price, number_of_rooms):\n",
    "        super().__init__(address, price)\n",
    "        self.number_of_rooms = number_of_rooms\n"
   ]
  },
  {
   "cell_type": "code",
   "execution_count": null,
   "id": "031f7a5c-1903-4434-8b54-81c756393e80",
   "metadata": {},
   "outputs": [],
   "source": []
  }
 ],
 "metadata": {
  "kernelspec": {
   "display_name": "Python 3 (ipykernel)",
   "language": "python",
   "name": "python3"
  },
  "language_info": {
   "codemirror_mode": {
    "name": "ipython",
    "version": 3
   },
   "file_extension": ".py",
   "mimetype": "text/x-python",
   "name": "python",
   "nbconvert_exporter": "python",
   "pygments_lexer": "ipython3",
   "version": "3.12.7"
  }
 },
 "nbformat": 4,
 "nbformat_minor": 5
}
